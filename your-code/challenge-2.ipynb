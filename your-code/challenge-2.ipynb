{
 "cells": [
  {
   "cell_type": "markdown",
   "metadata": {},
   "source": [
    "## Challenge 2: Sets\n",
    "\n",
    "There are a lot to learn about Python Sets and the information presented in the lesson is limited due to its length. To learn Python Sets in depth you are strongly encouraged to review the W3Schools tutorial on [Python Sets Examples and Methods](https://www.w3schools.com/python/python_sets.asp) before you work on this lab. Some difficult questions in this lab have their solutions in the W3Schools tutorial.\n",
    "\n",
    "#### First, import the Python `random` library."
   ]
  },
  {
   "cell_type": "code",
   "execution_count": 50,
   "metadata": {},
   "outputs": [],
   "source": [
    "import random"
   ]
  },
  {
   "cell_type": "markdown",
   "metadata": {},
   "source": [
    "⚠️ Did you get: module not found? Try, in a cell: <br>\n",
    "`!pip install random`<br>\n",
    "`import random`"
   ]
  },
  {
   "cell_type": "markdown",
   "metadata": {},
   "source": [
    "#### In the cell below, create a list named `sample_list_1` with 80 random values. \n",
    "\n",
    "Requirements:\n",
    "\n",
    "* Each value is an integer falling between 0 and 100.\n",
    "* Each value in the list is unique.\n",
    "\n",
    "Print `sample_list_1` to review its values\n",
    "\n",
    "*Hint: use `random.sample` ([reference](https://docs.python.org/3/library/random.html#random.sample)).*"
   ]
  },
  {
   "cell_type": "code",
   "execution_count": 51,
   "metadata": {},
   "outputs": [
    {
     "data": {
      "text/plain": [
       "[80,\n",
       " 95,\n",
       " 13,\n",
       " 81,\n",
       " 27,\n",
       " 2,\n",
       " 12,\n",
       " 7,\n",
       " 20,\n",
       " 99,\n",
       " 86,\n",
       " 32,\n",
       " 10,\n",
       " 65,\n",
       " 69,\n",
       " 74,\n",
       " 48,\n",
       " 55,\n",
       " 24,\n",
       " 72,\n",
       " 92,\n",
       " 42,\n",
       " 36,\n",
       " 30,\n",
       " 52,\n",
       " 37,\n",
       " 66,\n",
       " 16,\n",
       " 68,\n",
       " 90,\n",
       " 75,\n",
       " 39,\n",
       " 19,\n",
       " 89,\n",
       " 18,\n",
       " 3,\n",
       " 83,\n",
       " 44,\n",
       " 23,\n",
       " 84,\n",
       " 79,\n",
       " 57,\n",
       " 49,\n",
       " 0,\n",
       " 45,\n",
       " 47,\n",
       " 88,\n",
       " 1,\n",
       " 9,\n",
       " 17,\n",
       " 63,\n",
       " 61,\n",
       " 71,\n",
       " 58,\n",
       " 46,\n",
       " 96,\n",
       " 87,\n",
       " 11,\n",
       " 43,\n",
       " 82,\n",
       " 22,\n",
       " 6,\n",
       " 98,\n",
       " 93,\n",
       " 15,\n",
       " 50,\n",
       " 4,\n",
       " 53,\n",
       " 67,\n",
       " 78,\n",
       " 60,\n",
       " 31,\n",
       " 5,\n",
       " 54,\n",
       " 76,\n",
       " 62,\n",
       " 25,\n",
       " 14,\n",
       " 34,\n",
       " 21]"
      ]
     },
     "execution_count": 51,
     "metadata": {},
     "output_type": "execute_result"
    }
   ],
   "source": [
    "# Your code here\n",
    "sample_list_1 = random.sample(range(100), k=80)\n",
    "sample_list_1\n"
   ]
  },
  {
   "cell_type": "code",
   "execution_count": 52,
   "metadata": {},
   "outputs": [
    {
     "name": "stdout",
     "output_type": "stream",
     "text": [
      "Todo OK\n",
      "Todo OK\n",
      "Todo OK\n",
      "Todo OK\n",
      "Todo OK\n",
      "Todo OK\n",
      "Todo OK\n",
      "Todo OK\n",
      "Todo OK\n",
      "Todo OK\n",
      "Todo OK\n",
      "Todo OK\n",
      "Todo OK\n",
      "Todo OK\n",
      "Todo OK\n",
      "Todo OK\n",
      "Todo OK\n",
      "Todo OK\n",
      "Todo OK\n",
      "Todo OK\n",
      "Todo OK\n",
      "Todo OK\n",
      "Todo OK\n",
      "Todo OK\n",
      "Todo OK\n",
      "Todo OK\n",
      "Todo OK\n",
      "Todo OK\n",
      "Todo OK\n",
      "Todo OK\n",
      "Todo OK\n",
      "Todo OK\n",
      "Todo OK\n",
      "Todo OK\n",
      "Todo OK\n",
      "Todo OK\n",
      "Todo OK\n",
      "Todo OK\n",
      "Todo OK\n",
      "Todo OK\n",
      "Todo OK\n",
      "Todo OK\n",
      "Todo OK\n",
      "Todo OK\n",
      "Todo OK\n",
      "Todo OK\n",
      "Todo OK\n",
      "Todo OK\n",
      "Todo OK\n",
      "Todo OK\n",
      "Todo OK\n",
      "Todo OK\n",
      "Todo OK\n",
      "Todo OK\n",
      "Todo OK\n",
      "Todo OK\n",
      "Todo OK\n",
      "Todo OK\n",
      "Todo OK\n",
      "Todo OK\n",
      "Todo OK\n",
      "Todo OK\n",
      "Todo OK\n",
      "Todo OK\n",
      "Todo OK\n",
      "Todo OK\n",
      "Todo OK\n",
      "Todo OK\n",
      "Todo OK\n",
      "Todo OK\n",
      "Todo OK\n",
      "Todo OK\n",
      "Todo OK\n",
      "Todo OK\n",
      "Todo OK\n",
      "Todo OK\n",
      "Todo OK\n",
      "Todo OK\n",
      "Todo OK\n",
      "Todo OK\n"
     ]
    }
   ],
   "source": [
    "#just double checking\n",
    "for i in sample_list_1:\n",
    "    if sample_list_1.count(i) > 1:\n",
    "        print(\"Problema\")\n",
    "    else:\n",
    "        print(\"Todo OK\")\n"
   ]
  },
  {
   "cell_type": "markdown",
   "metadata": {},
   "source": [
    "#### Convert `sample_list_1` to a set called `set1`. Print the length of the set. Is its length still 80?"
   ]
  },
  {
   "cell_type": "code",
   "execution_count": 53,
   "metadata": {},
   "outputs": [
    {
     "data": {
      "text/plain": [
       "80"
      ]
     },
     "execution_count": 53,
     "metadata": {},
     "output_type": "execute_result"
    }
   ],
   "source": [
    "# Your code here\n",
    "set1 = set(sample_list_1)\n",
    "set1\n",
    "len(set1)"
   ]
  },
  {
   "cell_type": "markdown",
   "metadata": {},
   "source": [
    "#### Create another list named `sample_list_2` with 80 random values.\n",
    "\n",
    "Requirements:\n",
    "\n",
    "* Each value is an integer falling between 0 and 100.\n",
    "* The values in the list don't have to be unique.\n",
    "\n",
    "*Hint: Use a FOR loop.*"
   ]
  },
  {
   "cell_type": "code",
   "execution_count": 54,
   "metadata": {},
   "outputs": [
    {
     "data": {
      "text/plain": [
       "[96,\n",
       " 49,\n",
       " 26,\n",
       " 60,\n",
       " 82,\n",
       " 18,\n",
       " 38,\n",
       " 26,\n",
       " 43,\n",
       " 60,\n",
       " 45,\n",
       " 29,\n",
       " 39,\n",
       " 11,\n",
       " 7,\n",
       " 59,\n",
       " 47,\n",
       " 33,\n",
       " 50,\n",
       " 37,\n",
       " 83,\n",
       " 93,\n",
       " 34,\n",
       " 12,\n",
       " 56,\n",
       " 99,\n",
       " 20,\n",
       " 57,\n",
       " 84,\n",
       " 90,\n",
       " 58,\n",
       " 24,\n",
       " 66,\n",
       " 58,\n",
       " 53,\n",
       " 80,\n",
       " 70,\n",
       " 100,\n",
       " 51,\n",
       " 67,\n",
       " 68,\n",
       " 94,\n",
       " 97,\n",
       " 83,\n",
       " 85,\n",
       " 21,\n",
       " 25,\n",
       " 80,\n",
       " 46,\n",
       " 77,\n",
       " 25,\n",
       " 18,\n",
       " 3,\n",
       " 88,\n",
       " 35,\n",
       " 21,\n",
       " 27,\n",
       " 12,\n",
       " 52,\n",
       " 48,\n",
       " 19,\n",
       " 33,\n",
       " 47,\n",
       " 60,\n",
       " 26,\n",
       " 80,\n",
       " 32,\n",
       " 42,\n",
       " 11,\n",
       " 71,\n",
       " 0,\n",
       " 48,\n",
       " 13,\n",
       " 92,\n",
       " 43,\n",
       " 84,\n",
       " 2,\n",
       " 41,\n",
       " 14,\n",
       " 50]"
      ]
     },
     "execution_count": 54,
     "metadata": {},
     "output_type": "execute_result"
    }
   ],
   "source": [
    "# Your code here\n",
    "sample_list_2 = []\n",
    "for i in range(80):\n",
    "    num = random.randint(0,100)\n",
    "    sample_list_2.append(num)\n",
    "sample_list_2"
   ]
  },
  {
   "cell_type": "markdown",
   "metadata": {},
   "source": [
    "#### Convert `sample_list_2` to a set called `set2`. Print the length of the set. Is its length still 80?"
   ]
  },
  {
   "cell_type": "code",
   "execution_count": 55,
   "metadata": {},
   "outputs": [
    {
     "data": {
      "text/plain": [
       "61"
      ]
     },
     "execution_count": 55,
     "metadata": {},
     "output_type": "execute_result"
    }
   ],
   "source": [
    "# Your code here\n",
    "sample_list_2 = set(sample_list_2)\n",
    "set2= sample_list_2\n",
    "len(set2)"
   ]
  },
  {
   "cell_type": "markdown",
   "metadata": {},
   "source": [
    "#### Identify the elements present in `set1` but not in `set2`. Assign the elements to a new set named `set3`."
   ]
  },
  {
   "cell_type": "code",
   "execution_count": 87,
   "metadata": {},
   "outputs": [
    {
     "name": "stdout",
     "output_type": "stream",
     "text": [
      "1\n",
      "4\n",
      "5\n",
      "6\n",
      "9\n",
      "10\n",
      "15\n",
      "16\n",
      "17\n",
      "22\n",
      "23\n",
      "30\n",
      "31\n",
      "36\n",
      "44\n",
      "54\n",
      "55\n",
      "61\n",
      "62\n",
      "63\n",
      "65\n",
      "69\n",
      "72\n",
      "74\n",
      "75\n",
      "76\n",
      "78\n",
      "79\n",
      "81\n",
      "86\n",
      "87\n",
      "89\n",
      "95\n",
      "98\n"
     ]
    },
    {
     "data": {
      "text/plain": [
       "[0,\n",
       " 2,\n",
       " 3,\n",
       " 7,\n",
       " 11,\n",
       " 12,\n",
       " 13,\n",
       " 14,\n",
       " 18,\n",
       " 19,\n",
       " 20,\n",
       " 21,\n",
       " 24,\n",
       " 25,\n",
       " 27,\n",
       " 32,\n",
       " 34,\n",
       " 37,\n",
       " 39,\n",
       " 42,\n",
       " 43,\n",
       " 45,\n",
       " 46,\n",
       " 47,\n",
       " 48,\n",
       " 49,\n",
       " 50,\n",
       " 52,\n",
       " 53,\n",
       " 57,\n",
       " 58,\n",
       " 60,\n",
       " 66,\n",
       " 67,\n",
       " 68,\n",
       " 71,\n",
       " 80,\n",
       " 82,\n",
       " 83,\n",
       " 84,\n",
       " 88,\n",
       " 90,\n",
       " 92,\n",
       " 93,\n",
       " 96,\n",
       " 99]"
      ]
     },
     "execution_count": 87,
     "metadata": {},
     "output_type": "execute_result"
    }
   ],
   "source": [
    "# Your code here\n",
    "set3 = set(set3)\n",
    "set3 = []\n",
    "for i in set1:\n",
    "    if i in set1.difference(set2):\n",
    "        print(i)\n",
    "    else:\n",
    "        set3.append(i)\n",
    "set3"
   ]
  },
  {
   "cell_type": "markdown",
   "metadata": {},
   "source": [
    "#### Identify the elements present in `set2` but not in `set1`. Assign the elements to a new set named `set4`."
   ]
  },
  {
   "cell_type": "code",
   "execution_count": 57,
   "metadata": {},
   "outputs": [
    {
     "name": "stdout",
     "output_type": "stream",
     "text": [
      "26\n",
      "29\n",
      "33\n",
      "35\n",
      "38\n",
      "41\n",
      "51\n",
      "56\n",
      "59\n",
      "70\n",
      "77\n",
      "85\n",
      "94\n",
      "97\n",
      "100\n",
      "[0, 2, 3, 7, 11, 12, 13, 14, 18, 19, 20, 21, 24, 25, 27, 32, 34, 37, 39, 42, 43, 45, 46, 47, 48, 49, 50, 52, 53, 57, 58, 60, 66, 67, 68, 71, 80, 82, 83, 84, 88, 90, 92, 93, 96, 99]\n"
     ]
    }
   ],
   "source": [
    "# Your code here\n",
    "set4 = []\n",
    "for i in set2:\n",
    "    if i in set2.difference(set1):\n",
    "        print(i)\n",
    "    else:\n",
    "        set4.append(i)\n",
    "print(set4)"
   ]
  },
  {
   "cell_type": "markdown",
   "metadata": {},
   "source": [
    "#### Now Identify the elements shared between `set1` and `set2`. Assign the elements to a new set named `set5`."
   ]
  },
  {
   "cell_type": "code",
   "execution_count": 58,
   "metadata": {},
   "outputs": [
    {
     "name": "stdout",
     "output_type": "stream",
     "text": [
      "0\n",
      "2\n",
      "3\n",
      "7\n",
      "11\n",
      "12\n",
      "13\n",
      "14\n",
      "18\n",
      "19\n",
      "20\n",
      "21\n",
      "24\n",
      "25\n",
      "27\n",
      "32\n",
      "34\n",
      "37\n",
      "39\n",
      "42\n",
      "43\n",
      "45\n",
      "46\n",
      "47\n",
      "48\n",
      "49\n",
      "50\n",
      "52\n",
      "53\n",
      "57\n",
      "58\n",
      "60\n",
      "66\n",
      "67\n",
      "68\n",
      "71\n",
      "80\n",
      "82\n",
      "83\n",
      "84\n",
      "88\n",
      "90\n",
      "92\n",
      "93\n",
      "96\n",
      "99\n",
      "[1, 4, 5, 6, 9, 10, 15, 16, 17, 22, 23, 30, 31, 36, 44, 54, 55, 61, 62, 63, 65, 69, 72, 74, 75, 76, 78, 79, 81, 86, 87, 89, 95, 98]\n"
     ]
    }
   ],
   "source": [
    "# Your code here\n",
    "set5 = []\n",
    "for i in set1:\n",
    "    if i in set1.intersection(set2):\n",
    "        print(i)\n",
    "    else:\n",
    "        set5.append(i)\n",
    "print(set5)\n"
   ]
  },
  {
   "cell_type": "markdown",
   "metadata": {},
   "source": [
    "#### What is the relationship among the following values:\n",
    "\n",
    "* len(set1)\n",
    "* len(set2)\n",
    "* len(set3)\n",
    "* len(set4)\n",
    "* len(set5)\n",
    "\n",
    "Use a math formula to represent that relationship. Test your formula with Python code. Eg.: \n",
    "\n",
    "- my age is 30\n",
    "- my son is 10\n",
    "- my dad's twice my age\n",
    "- my grandmother is three times my age minus my son's_age\n",
    "\n",
    "\n",
    "A formula relating all these values would be:\n",
    "\n",
    "`my_grandmother = my_age + my_dad's_age - my_sons_age`\n",
    "\n",
    "Does this evaluate to True or to False?"
   ]
  },
  {
   "cell_type": "code",
   "execution_count": 66,
   "metadata": {},
   "outputs": [
    {
     "data": {
      "text/plain": [
       "{0,\n",
       " 2,\n",
       " 3,\n",
       " 7,\n",
       " 11,\n",
       " 12,\n",
       " 13,\n",
       " 14,\n",
       " 18,\n",
       " 19,\n",
       " 20,\n",
       " 21,\n",
       " 24,\n",
       " 25,\n",
       " 26,\n",
       " 27,\n",
       " 29,\n",
       " 32,\n",
       " 33,\n",
       " 34,\n",
       " 35,\n",
       " 37,\n",
       " 38,\n",
       " 39,\n",
       " 41,\n",
       " 42,\n",
       " 43,\n",
       " 45,\n",
       " 46,\n",
       " 47,\n",
       " 48,\n",
       " 49,\n",
       " 50,\n",
       " 51,\n",
       " 52,\n",
       " 53,\n",
       " 56,\n",
       " 57,\n",
       " 58,\n",
       " 59,\n",
       " 60,\n",
       " 66,\n",
       " 67,\n",
       " 68,\n",
       " 70,\n",
       " 71,\n",
       " 77,\n",
       " 80,\n",
       " 82,\n",
       " 83,\n",
       " 84,\n",
       " 85,\n",
       " 88,\n",
       " 90,\n",
       " 92,\n",
       " 93,\n",
       " 94,\n",
       " 96,\n",
       " 97,\n",
       " 99,\n",
       " 100}"
      ]
     },
     "execution_count": 66,
     "metadata": {},
     "output_type": "execute_result"
    }
   ],
   "source": [
    "set2"
   ]
  },
  {
   "cell_type": "code",
   "execution_count": 69,
   "metadata": {},
   "outputs": [
    {
     "data": {
      "text/plain": [
       "True"
      ]
     },
     "execution_count": 69,
     "metadata": {},
     "output_type": "execute_result"
    }
   ],
   "source": [
    "set3==set4"
   ]
  },
  {
   "cell_type": "code",
   "execution_count": 59,
   "metadata": {},
   "outputs": [
    {
     "data": {
      "text/plain": [
       "False"
      ]
     },
     "execution_count": 59,
     "metadata": {},
     "output_type": "execute_result"
    }
   ],
   "source": [
    "# Your code here\n",
    "len(set1)+len(set2)-len(set5) == len(set3)+ len(set4)+len(set5)"
   ]
  },
  {
   "cell_type": "markdown",
   "metadata": {},
   "source": [
    "#### Create an empty set called `set6`."
   ]
  },
  {
   "cell_type": "code",
   "execution_count": 60,
   "metadata": {},
   "outputs": [],
   "source": [
    "# Your code here\n",
    "set6 = {}"
   ]
  },
  {
   "cell_type": "markdown",
   "metadata": {},
   "source": [
    "#### Add `set3` and `set5` to `set6` using the Python Set `update` method."
   ]
  },
  {
   "cell_type": "code",
   "execution_count": 79,
   "metadata": {},
   "outputs": [
    {
     "data": {
      "text/plain": [
       "{1,\n",
       " 4,\n",
       " 5,\n",
       " 6,\n",
       " 9,\n",
       " 10,\n",
       " 15,\n",
       " 16,\n",
       " 17,\n",
       " 22,\n",
       " 23,\n",
       " 30,\n",
       " 31,\n",
       " 36,\n",
       " 44,\n",
       " 54,\n",
       " 55,\n",
       " 61,\n",
       " 62,\n",
       " 63,\n",
       " 65,\n",
       " 69,\n",
       " 72,\n",
       " 74,\n",
       " 75,\n",
       " 76,\n",
       " 78,\n",
       " 79,\n",
       " 81,\n",
       " 86,\n",
       " 87,\n",
       " 89,\n",
       " 95,\n",
       " 98}"
      ]
     },
     "execution_count": 79,
     "metadata": {},
     "output_type": "execute_result"
    }
   ],
   "source": [
    "# Your code here\n",
    "set6= set()\n",
    "set6.update(set5)\n",
    "set6.update(set6)\n",
    "set6"
   ]
  },
  {
   "cell_type": "markdown",
   "metadata": {},
   "source": [
    "#### Check if `set1` and `set6` are equal."
   ]
  },
  {
   "cell_type": "code",
   "execution_count": 80,
   "metadata": {},
   "outputs": [
    {
     "data": {
      "text/plain": [
       "False"
      ]
     },
     "execution_count": 80,
     "metadata": {},
     "output_type": "execute_result"
    }
   ],
   "source": [
    "# Your code here\n",
    "set1 == set6"
   ]
  },
  {
   "cell_type": "markdown",
   "metadata": {},
   "source": [
    "#### Check if `set1` contains `set2` using the Python Set `issubset` method. Then check if `set1` contains `set3`.*"
   ]
  },
  {
   "cell_type": "code",
   "execution_count": 88,
   "metadata": {},
   "outputs": [
    {
     "data": {
      "text/plain": [
       "False"
      ]
     },
     "execution_count": 88,
     "metadata": {},
     "output_type": "execute_result"
    }
   ],
   "source": [
    "# Your code here\n",
    "set2.issubset(set1)\n"
   ]
  },
  {
   "cell_type": "markdown",
   "metadata": {},
   "source": [
    "#### Using the Python Set `union` method, aggregate `set3`, `set4`, and `set5`. Then aggregate `set1` and `set2`. \n",
    "\n",
    "#### Check if the aggregated values are equal."
   ]
  },
  {
   "cell_type": "code",
   "execution_count": 92,
   "metadata": {},
   "outputs": [
    {
     "ename": "AttributeError",
     "evalue": "'list' object has no attribute 'union'",
     "output_type": "error",
     "traceback": [
      "\u001b[1;31m---------------------------------------------------------------------------\u001b[0m",
      "\u001b[1;31mAttributeError\u001b[0m                            Traceback (most recent call last)",
      "Cell \u001b[1;32mIn[92], line 4\u001b[0m\n\u001b[0;32m      2\u001b[0m set7 \u001b[38;5;241m=\u001b[39m ()\n\u001b[0;32m      3\u001b[0m set7 \u001b[38;5;241m=\u001b[39m \u001b[38;5;28mset\u001b[39m(set7)\n\u001b[1;32m----> 4\u001b[0m set7 \u001b[38;5;241m=\u001b[39m set3\u001b[38;5;241m.\u001b[39munion(set4,set5)\n\u001b[0;32m      5\u001b[0m set7\n",
      "\u001b[1;31mAttributeError\u001b[0m: 'list' object has no attribute 'union'"
     ]
    }
   ],
   "source": [
    "# Your code here\n",
    "\n",
    "\n"
   ]
  },
  {
   "cell_type": "markdown",
   "metadata": {},
   "source": [
    "#### Using the `pop` method, remove the first element from `set1`."
   ]
  },
  {
   "cell_type": "code",
   "execution_count": null,
   "metadata": {},
   "outputs": [],
   "source": [
    "# Your code here\n"
   ]
  },
  {
   "cell_type": "markdown",
   "metadata": {},
   "source": [
    "#### Remove every element in the following list from `set1` if they are present in the set. Print the remaining elements.\n",
    "\n",
    "```\n",
    "list_to_remove = [1, 9, 11, 19, 21, 29, 31, 39, 41, 49, 51, 59, 61, 69, 71, 79, 81, 89, 91, 99]\n",
    "```"
   ]
  },
  {
   "cell_type": "code",
   "execution_count": null,
   "metadata": {},
   "outputs": [],
   "source": [
    "# Your code here\n"
   ]
  }
 ],
 "metadata": {
  "kernelspec": {
   "display_name": "Python 3 (ipykernel)",
   "language": "python",
   "name": "python3"
  },
  "language_info": {
   "codemirror_mode": {
    "name": "ipython",
    "version": 3
   },
   "file_extension": ".py",
   "mimetype": "text/x-python",
   "name": "python",
   "nbconvert_exporter": "python",
   "pygments_lexer": "ipython3",
   "version": "3.11.5"
  },
  "nbTranslate": {
   "displayLangs": [
    "en",
    "es"
   ],
   "hotkey": "alt-a",
   "langInMainMenu": true,
   "sourceLang": "es",
   "targetLang": "en",
   "useGoogleTranslate": true
  },
  "toc": {
   "base_numbering": 1,
   "nav_menu": {},
   "number_sections": true,
   "sideBar": true,
   "skip_h1_title": false,
   "title_cell": "Table of Contents",
   "title_sidebar": "Contents",
   "toc_cell": false,
   "toc_position": {},
   "toc_section_display": true,
   "toc_window_display": false
  }
 },
 "nbformat": 4,
 "nbformat_minor": 2
}
